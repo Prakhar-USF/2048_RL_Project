{
 "cells": [
  {
   "cell_type": "markdown",
   "metadata": {},
   "source": [
    "# Game class"
   ]
  },
  {
   "cell_type": "code",
   "execution_count": 109,
   "metadata": {},
   "outputs": [],
   "source": [
    "import numpy as np\n",
    "import random"
   ]
  },
  {
   "cell_type": "code",
   "execution_count": 110,
   "metadata": {},
   "outputs": [],
   "source": [
    "# Global controls\n",
    "\n",
    "ACTION_NAMES = [\"left\", \"up\", \"right\", \"down\"]\n",
    "ACTION_LEFT = 0\n",
    "ACTION_UP = 1\n",
    "ACTION_RIGHT = 2\n",
    "ACTION_DOWN = 3"
   ]
  },
  {
   "cell_type": "code",
   "execution_count": 111,
   "metadata": {},
   "outputs": [],
   "source": [
    "class Game(object):\n",
    "    def __init__(self, state=None, initial_score=0):\n",
    "        \"\"\"Init the Game object.\n",
    "        Args:\n",
    "        state: Shape (4, 4) numpy array to initialize the state with. If None,\n",
    "        the state will be initialized with two random tiles (as done\n",
    "        in the original game).\n",
    "        initial_score: Score to initialize the Game with.\n",
    "        \"\"\"\n",
    "        self._score = initial_score\n",
    "\n",
    "        if state is None:\n",
    "            # Initialize all states to 0(empty)\n",
    "            self._state = np.zeros((4, 4), dtype=np.int)\n",
    "            \n",
    "            # Initialize 2 random tiles\n",
    "            self.add_random_tile()\n",
    "            self.add_random_tile()\n",
    "        else:\n",
    "            self._state = state\n",
    "\n",
    "    def copy(self):\n",
    "        \"\"\"Return a copy of self.\"\"\"\n",
    "        return Game(np.copy(self._state), self._score)\n",
    "\n",
    "    def game_over(self):\n",
    "        \"\"\"Whether the game is over. Check if any of the actions are still available\"\"\"\n",
    "        for action in range(4):\n",
    "            if self.is_action_available(action):\n",
    "                return False\n",
    "        return True\n",
    "\n",
    "    def available_actions(self):\n",
    "        \"\"\"Computes the set of actions that are available.\"\"\"\n",
    "        return [action for action in range(4) if self.is_action_available(action)]\n",
    "\n",
    "    def is_action_available(self, action):\n",
    "        \"\"\"Determines whether action is available.\n",
    "        That is, executing it would change the state.\n",
    "        \"\"\"\n",
    "        # Rotate the state by 90 anti clockwise times the action \n",
    "        # This reduces the number of cases to be checked\n",
    "        temp_state = np.rot90(self._state, action)\n",
    "        return self._is_action_available_left(temp_state)\n",
    "\n",
    "    def _is_action_available_left(self, state):\n",
    "        \"\"\"Determines whether action 'Left' is available.\"\"\"\n",
    "\n",
    "    # True if any field is 0 (empty) on the left of a tile or two tiles can\n",
    "    # be merged.\n",
    "        for row in range(4):\n",
    "            has_empty = False\n",
    "            for col in range(4):\n",
    "                has_empty |= state[row, col] == 0\n",
    "                if state[row, col] != 0 and has_empty:\n",
    "                    return True\n",
    "                if (state[row, col] != 0 and col > 0 and\n",
    "                    state[row, col] == state[row, col - 1]):\n",
    "                    return True\n",
    "\n",
    "        return False\n",
    "\n",
    "\n",
    "    def do_action(self, action):\n",
    "        \"\"\"Execute action, add a new tile, update the score & return the reward.\"\"\"\n",
    "\n",
    "        temp_state = np.rot90(self._state, action)\n",
    "        reward = self._do_action_left(temp_state)\n",
    "        self._state = np.rot90(temp_state, -action)\n",
    "        self._score += reward\n",
    "\n",
    "        self.add_random_tile()\n",
    "\n",
    "        return reward\n",
    "\n",
    "    def _do_action_left(self, state):\n",
    "        \"\"\"Exectures action 'Left'.\"\"\"\n",
    "\n",
    "        reward = 0\n",
    "\n",
    "        for row in range(4):\n",
    "          # Always the rightmost tile in the current row that was already moved\n",
    "            merge_candidate = -1\n",
    "            merged = np.zeros((4,), dtype=np.bool)\n",
    "\n",
    "            for col in range(4):\n",
    "                if state[row, col] == 0:\n",
    "                    continue\n",
    "\n",
    "                if (merge_candidate != -1 and\n",
    "                    not merged[merge_candidate] and\n",
    "                    state[row, merge_candidate] == state[row, col]):\n",
    "                  # Merge tile with merge_candidate\n",
    "                    state[row, col] = 0\n",
    "                    merged[merge_candidate] = True\n",
    "                    state[row, merge_candidate] += 1\n",
    "                    reward += 2 ** state[row, merge_candidate]\n",
    "\n",
    "                else:\n",
    "                  # Move tile to the left\n",
    "                    merge_candidate += 1\n",
    "                    if col != merge_candidate:\n",
    "                        state[row, merge_candidate] = state[row, col]\n",
    "                        state[row, col] = 0\n",
    "\n",
    "        return reward\n",
    "\n",
    "    def add_random_tile(self):\n",
    "        \"\"\"Adds a random tile to the grid. Assumes that it has empty fields.\"\"\"\n",
    "\n",
    "        x_pos, y_pos = np.where(self._state == 0)\n",
    "        assert len(x_pos) != 0\n",
    "        empty_index = np.random.choice(len(x_pos))\n",
    "        value = np.random.choice([1, 2], p=[0.9, 0.1])\n",
    "\n",
    "        self._state[x_pos[empty_index], y_pos[empty_index]] = value\n",
    "\n",
    "    def print_state(self):\n",
    "        \"\"\"Prints the current state.\"\"\"\n",
    "\n",
    "        def tile_string(value):\n",
    "          \"\"\"Concert value to string.\"\"\"\n",
    "          if value > 0:\n",
    "            return '% 5d' % (2 ** value,)\n",
    "          return \"     \"\n",
    "\n",
    "        print(\"-\" * 25)\n",
    "        for row in range(4):\n",
    "            print(\"|\" + \"|\".join([tile_string(v) for v in self._state[row, :]]) + \"|\")\n",
    "            print(\"-\" * 25)\n",
    "\n",
    "    def state(self):\n",
    "        \"\"\"Return current state.\"\"\"\n",
    "        return self._state\n",
    "\n",
    "    def score(self):\n",
    "        \"\"\"Return current score.\"\"\"\n",
    "        return self._score"
   ]
  },
  {
   "cell_type": "code",
   "execution_count": 112,
   "metadata": {},
   "outputs": [],
   "source": [
    "game = Game()"
   ]
  },
  {
   "cell_type": "code",
   "execution_count": 113,
   "metadata": {},
   "outputs": [
    {
     "name": "stdout",
     "output_type": "stream",
     "text": [
      "-------------------------\n",
      "|     |    2|     |     |\n",
      "-------------------------\n",
      "|     |     |     |     |\n",
      "-------------------------\n",
      "|     |     |     |    4|\n",
      "-------------------------\n",
      "|     |     |     |     |\n",
      "-------------------------\n"
     ]
    }
   ],
   "source": [
    "game.print_state()"
   ]
  },
  {
   "cell_type": "code",
   "execution_count": 114,
   "metadata": {},
   "outputs": [
    {
     "name": "stdout",
     "output_type": "stream",
     "text": [
      "0\n",
      "-------------------------\n",
      "|     |     |     |    2|\n",
      "-------------------------\n",
      "|     |     |     |     |\n",
      "-------------------------\n",
      "|     |     |     |    4|\n",
      "-------------------------\n",
      "|    2|     |     |     |\n",
      "-------------------------\n"
     ]
    }
   ],
   "source": [
    "x = game.do_action(2)\n",
    "print(x)\n",
    "game.print_state()"
   ]
  },
  {
   "cell_type": "code",
   "execution_count": 147,
   "metadata": {},
   "outputs": [],
   "source": [
    "class Agent():\n",
    "    \"All of the Agent expect Q-learning has been given to you.\"\n",
    "    def __init__(self, game_class, epsilon=0.1, alpha=1.0):\n",
    "        self.V = dict() # Build up the values of different states as we encounter them; Note the Markov assumption\n",
    "        self.NewGame = game_class\n",
    "        self.epsilon = epsilon\n",
    "        self.alpha = alpha\n",
    "\n",
    "    def state_value(self, game_state, action):\n",
    "        \"Look up state value. If never seen state, then assume neutral.\"\n",
    "        return self.V.get((str(game_state), action), 0.0) \n",
    "\n",
    "    def learn_game(self, n_episodes=1_000):\n",
    "        \"Let's learn through complete experience to get that reward.\"\n",
    "        for episode in range(n_episodes):\n",
    "            self.learn_from_episode()\n",
    "\n",
    "    def learn_from_episode(self):\n",
    "        \"Update Values based on reward.\"\n",
    "        game = self.NewGame()\n",
    "        while not game.game_over():\n",
    "            action, reward = self.learn_from_move(game)\n",
    "        self.V[(str(game._state), action)] = reward\n",
    "\n",
    "    def learn_from_move(self, game):\n",
    "        \"The heart of Q-learning.\"\n",
    "        \n",
    "        current_state = game._state\n",
    "        selected_next_move = self.learn_select_move(game)\n",
    "        r = game.do_action(selected_next_move)\n",
    "        current_state_value = self.state_value(current_state,selected_next_move)\n",
    "        \n",
    "        try:\n",
    "            best_next_move = self.select_best_move(game)\n",
    "                                               \n",
    "            best_move_value = self.state_value(game._state, best_next_move)\n",
    "            td_target = r + best_move_value\n",
    "            self.V[(str(current_state), selected_next_move)] = current_state_value + self.alpha * (td_target - current_state_value) \n",
    "        except:\n",
    "            pass\n",
    "        return selected_next_move, r\n",
    "        \n",
    "    def learn_select_move(self, game):\n",
    "        \"Exploration and exploitation\"\n",
    "        best_state_action = self.select_best_move(game)\n",
    "        selected_state_action = best_state_action\n",
    "        if random.random() < self.epsilon:\n",
    "            allowed_state_action_values = self.state_values( game._state, game.available_actions())\n",
    "            selected_state_action = self.random_V(allowed_state_action_values)[1]\n",
    "        return selected_state_action\n",
    "    \n",
    "    def select_best_move(self, game):\n",
    "        allowed_state_action_values = self.state_values( game._state, game.available_actions() )\n",
    "        best_state_action = self.argmax_V(allowed_state_action_values)\n",
    "        return best_state_action[1]\n",
    "\n",
    "    def round_V(self):\n",
    "        \"After training, this makes action selection random from equally-good choices\"\n",
    "        for k in self.V.keys():\n",
    "            self.V[k] = round(self.V[k],1)\n",
    "\n",
    "    def state_values(self, game_state, actions):\n",
    "        return dict(((str(game_state), action), self.state_value(game_state, action)) for action in actions)\n",
    "\n",
    "    def argmax_V(self, state_values):\n",
    "        \"For the best possible states, chose randomly amongst them.\"\n",
    "        try:\n",
    "            max_V = max(state_values.values())\n",
    "        except:\n",
    "            max_V = 0\n",
    "        chosen_state_action = random.choice([state_action for state_action, v in state_values.items() if v == max_V])\n",
    "        return chosen_state_action\n",
    "\n",
    "    def random_V(self, state_values):\n",
    "        \"Any state will do.\"\n",
    "        return random.choice(list(state_values.keys()))\n",
    "    \n",
    "    def random_play(self):\n",
    "        game = self.NewGame()\n",
    "        while not game.game_over():\n",
    "            self.random_move(game)\n",
    "        return game.score()\n",
    "    \n",
    "    def random_move(self, game):\n",
    "        available = game.available_actions()\n",
    "        game.do_action(np.random.choice(available))\n",
    "    \n",
    "    def q_learning_play(self):\n",
    "        game = self.NewGame()\n",
    "        while not game.game_over():\n",
    "            best = self.select_best_move(game)\n",
    "            if best in game.available_actions():\n",
    "                game.do_action(best)\n",
    "            else:\n",
    "                game.do_action(np.random.choice(game.available_actions()))\n",
    "        return game.score()          \n"
   ]
  },
  {
   "cell_type": "code",
   "execution_count": 178,
   "metadata": {},
   "outputs": [],
   "source": [
    "a = Agent(Game)"
   ]
  },
  {
   "cell_type": "markdown",
   "metadata": {},
   "source": [
    "## Random Play"
   ]
  },
  {
   "cell_type": "code",
   "execution_count": 179,
   "metadata": {},
   "outputs": [],
   "source": [
    "score = []\n",
    "for i in range(100):\n",
    "    score.append(a.random_play())"
   ]
  },
  {
   "cell_type": "code",
   "execution_count": 153,
   "metadata": {},
   "outputs": [
    {
     "data": {
      "text/plain": [
       "<matplotlib.axes._subplots.AxesSubplot at 0x1a194d8940>"
      ]
     },
     "execution_count": 153,
     "metadata": {},
     "output_type": "execute_result"
    },
    {
     "data": {
      "image/png": "[encoded data removed]",
      "text/plain": [
       "<Figure size 432x288 with 1 Axes>"
      ]
     },
     "metadata": {
      "needs_background": "light"
     },
     "output_type": "display_data"
    }
   ],
   "source": [
    "import seaborn as sns\n",
    "sns.distplot(score)"
   ]
  },
  {
   "cell_type": "code",
   "execution_count": 180,
   "metadata": {},
   "outputs": [
    {
     "name": "stdout",
     "output_type": "stream",
     "text": [
      "Mean score 1051.2\n"
     ]
    }
   ],
   "source": [
    "print(\"Mean score {}\".format(np.mean(score)))"
   ]
  },
  {
   "cell_type": "markdown",
   "metadata": {},
   "source": [
    "## Q- learning"
   ]
  },
  {
   "cell_type": "code",
   "execution_count": 170,
   "metadata": {},
   "outputs": [],
   "source": [
    "a = Agent(Game)\n",
    "a.learn_game(5000)"
   ]
  },
  {
   "cell_type": "code",
   "execution_count": 171,
   "metadata": {},
   "outputs": [
    {
     "data": {
      "text/plain": [
       "488844"
      ]
     },
     "execution_count": 171,
     "metadata": {},
     "output_type": "execute_result"
    }
   ],
   "source": [
    "len(a.V)"
   ]
  },
  {
   "cell_type": "code",
   "execution_count": 172,
   "metadata": {},
   "outputs": [],
   "source": [
    "score = []\n",
    "for i in range(100):\n",
    "    score.append(a.q_learning_play())"
   ]
  },
  {
   "cell_type": "code",
   "execution_count": 173,
   "metadata": {},
   "outputs": [
    {
     "data": {
      "text/plain": [
       "<matplotlib.axes._subplots.AxesSubplot at 0x1a1ae8ea20>"
      ]
     },
     "execution_count": 173,
     "metadata": {},
     "output_type": "execute_result"
    },
    {
     "data": {
      "image/png": "[encoded data removed]",
      "text/plain": [
       "<Figure size 432x288 with 1 Axes>"
      ]
     },
     "metadata": {
      "needs_background": "light"
     },
     "output_type": "display_data"
    }
   ],
   "source": [
    "sns.distplot(score)"
   ]
  },
  {
   "cell_type": "code",
   "execution_count": 176,
   "metadata": {},
   "outputs": [
    {
     "name": "stdout",
     "output_type": "stream",
     "text": [
      "Mean score 1131.24\n"
     ]
    }
   ],
   "source": [
    "print(\"Mean score {}\".format(np.mean(score)))"
   ]
  },
  {
   "cell_type": "code",
   "execution_count": null,
   "metadata": {},
   "outputs": [],
   "source": []
  }
 ],
 "metadata": {
  "kernelspec": {
   "display_name": "Python 3",
   "language": "python",
   "name": "python3"
  },
  "language_info": {
   "codemirror_mode": {
    "name": "ipython",
    "version": 3
   },
   "file_extension": ".py",
   "mimetype": "text/x-python",
   "name": "python",
   "nbconvert_exporter": "python",
   "pygments_lexer": "ipython3",
   "version": "3.7.3"
  }
 },
 "nbformat": 4,
 "nbformat_minor": 2
}
